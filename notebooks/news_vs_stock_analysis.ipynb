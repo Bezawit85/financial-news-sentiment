{
 "cells": [
  {
   "cell_type": "code",
   "execution_count": 1,
   "id": "cccf6c7e",
   "metadata": {},
   "outputs": [],
   "source": [
    "import pandas as pd\n",
    "import os\n",
    "\n",
    "# Load cleaned news\n",
    "df_news = pd.read_csv(\"data/processed/cleaned_news.csv\")\n",
    "df_news['date'] = pd.to_datetime(df_news['date']).dt.date\n",
    "df_sentiment = df_news.groupby('date')['Sentiment'].mean().reset_index()\n",
    "\n",
    "# List of stock files from data/technical/\n",
    "stock_dir = \"data/technical/\"\n",
    "stock_files = [f for f in os.listdir(stock_dir) if f.endswith(\"_historical.csv\")]\n",
    "\n",
    "# Calculate correlation for each stock\n",
    "for file in stock_files:\n",
    "    symbol = file.split(\"_\")[0]\n",
    "    df_stock = pd.read_csv(os.path.join(stock_dir, file), parse_dates=[\"Date\"])\n",
    "    df_stock[\"Date\"] = df_stock[\"Date\"].dt.date\n",
    "    df_stock[\"return\"] = df_stock[\"Close\"].pct_change()\n",
    "\n",
    "    df = pd.merge(df_stock, df_sentiment, left_on=\"Date\", right_on=\"date\", how=\"left\")\n",
    "    df = df.dropna(subset=[\"return\", \"Sentiment\"])\n",
    "    \n",
    "    corr = df[\"return\"].corr(df[\"Sentiment\"])\n",
    "    print(f\"{symbol} correlation: {corr:.4f}\")\n"
   ]
  }
 ],
 "metadata": {
  "kernelspec": {
   "display_name": "venv",
   "language": "python",
   "name": "python3"
  },
  "language_info": {
   "codemirror_mode": {
    "name": "ipython",
    "version": 3
   },
   "file_extension": ".py",
   "mimetype": "text/x-python",
   "name": "python",
   "nbconvert_exporter": "python",
   "pygments_lexer": "ipython3",
   "version": "3.13.3"
  }
 },
 "nbformat": 4,
 "nbformat_minor": 5
}
